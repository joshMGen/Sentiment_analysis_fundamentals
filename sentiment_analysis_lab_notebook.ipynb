{
 "cells": [
  {
   "cell_type": "code",
   "execution_count": null,
   "metadata": {},
   "outputs": [],
   "source": [
    "from gpt4all import GPT4All"
   ]
  },
  {
   "cell_type": "code",
   "execution_count": null,
   "metadata": {},
   "outputs": [],
   "source": [
    "mistral_model = GPT4All(r\"/home/pslearner/LLM_models/mistral-7b-openorca.gguf2.Q4_0-004.gguf\")"
   ]
  },
  {
   "cell_type": "markdown",
   "metadata": {},
   "source": [
    "# Sentiment Analysis with LLM's"
   ]
  },
  {
   "cell_type": "markdown",
   "metadata": {},
   "source": [
    "## Guided prompt engineering for Sentiment Analysis"
   ]
  },
  {
   "cell_type": "code",
   "execution_count": null,
   "metadata": {},
   "outputs": [],
   "source": [
    "with mistral_model.chat_session(system_prompt=r\"\"):\n",
    "    response = mistral_model.generate(prompt= \"\", max_tokens=20, temp=0.1, streaming=False)\n",
    "    for x in mistral_model.current_chat_session:\n",
    "        print(x)"
   ]
  },
  {
   "cell_type": "code",
   "execution_count": null,
   "metadata": {},
   "outputs": [],
   "source": [
    "with mistral_model.chat_session(system_prompt=r\"\"):\n",
    "    response = mistral_model.generate(prompt= \"\", max_tokens=20, temp=0.1, streaming=False)\n",
    "    for x in mistral_model.current_chat_session:\n",
    "        print(x)"
   ]
  },
  {
   "cell_type": "code",
   "execution_count": null,
   "metadata": {},
   "outputs": [],
   "source": [
    "with mistral_model.chat_session(system_prompt=r\"You are a sentiment analysis AI that returns the sentiment of the sentence given in the format of sentiment: probability of correctness. where sentiment can only be positive,negative, or neutral\"):\n",
    "    response = mistral_model.generate(prompt= \"\", max_tokens=20, temp=0.1, streaming=False)\n",
    "    for x in mistral_model.current_chat_session:\n",
    "        print(x)"
   ]
  },
  {
   "cell_type": "markdown",
   "metadata": {},
   "source": [
    "##  Formatting LLM Response"
   ]
  },
  {
   "cell_type": "code",
   "execution_count": null,
   "metadata": {},
   "outputs": [],
   "source": [
    "with mistral_model.chat_session(system_prompt=r\"\"):\n",
    "    response = mistral_model.generate(prompt= \"tacos are barely better than nothing\", max_tokens=20, temp=0.1, streaming=False)\n",
    "    for x in mistral_model.current_chat_session:\n",
    "        print(x)"
   ]
  },
  {
   "cell_type": "code",
   "execution_count": null,
   "metadata": {},
   "outputs": [],
   "source": [
    "with mistral_model.chat_session(system_prompt=r\"\"):\n",
    "    response = mistral_model.generate(prompt= \"tacos are barely better than nothing\", max_tokens=20, temp=0.1, streaming=False)\n",
    "    for x in mistral_model.current_chat_session:\n",
    "        print(x)"
   ]
  },
  {
   "cell_type": "code",
   "execution_count": null,
   "metadata": {},
   "outputs": [],
   "source": []
  }
 ],
 "metadata": {
  "kernelspec": {
   "display_name": "Python 3",
   "language": "python",
   "name": "python3"
  },
  "language_info": {
   "codemirror_mode": {
    "name": "ipython",
    "version": 3
   },
   "file_extension": ".py",
   "mimetype": "text/x-python",
   "name": "python",
   "nbconvert_exporter": "python",
   "pygments_lexer": "ipython3",
   "version": "3.11.0"
  }
 },
 "nbformat": 4,
 "nbformat_minor": 2
}
